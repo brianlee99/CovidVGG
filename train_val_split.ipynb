{
 "cells": [
  {
   "cell_type": "code",
   "execution_count": 29,
   "metadata": {},
   "outputs": [],
   "source": [
    "import numpy as np\n",
    "import pandas as pd\n",
    "import os\n",
    "from sklearn.model_selection import train_test_split"
   ]
  },
  {
   "cell_type": "code",
   "execution_count": 30,
   "metadata": {},
   "outputs": [],
   "source": [
    "# Split into 90% and 10%\n",
    "train_df = pd.read_csv('Covid.csv')"
   ]
  },
  {
   "cell_type": "code",
   "execution_count": 31,
   "metadata": {},
   "outputs": [],
   "source": [
    "train_df.columns = ['filename', 'class']"
   ]
  },
  {
   "cell_type": "markdown",
   "metadata": {},
   "source": [
    "# Filter out the files that do not exist"
   ]
  },
  {
   "cell_type": "code",
   "execution_count": 40,
   "metadata": {},
   "outputs": [],
   "source": [
    "train_path = 'data/xray/train'\n",
    "val_path = 'data/xray/val'"
   ]
  },
  {
   "cell_type": "code",
   "execution_count": 52,
   "metadata": {},
   "outputs": [],
   "source": [
    "train_df_filt = pd.DataFrame(columns=['filename', 'class'])"
   ]
  },
  {
   "cell_type": "code",
   "execution_count": 62,
   "metadata": {},
   "outputs": [
    {
     "name": "stdout",
     "output_type": "stream",
     "text": [
      "ARDSSevere.png\n",
      "SARS-10.1148rg.242035193-g04mr34g0-Fig8a-day0.jpeg\n",
      "SARS-10.1148rg.242035193-g04mr34g0-Fig8b-day5.jpeg\n",
      "SARS-10.1148rg.242035193-g04mr34g0-Fig8c-day10.jpeg\n",
      "SARS-10.1148rg.242035193-g04mr34g04a-Fig4a-day7.jpeg\n",
      "SARS-10.1148rg.242035193-g04mr34g04b-Fig4b-day12.jpeg\n",
      "SARS-10.1148rg.242035193-g04mr34g05x-Fig5-day9.jpeg\n",
      "SARS-10.1148rg.242035193-g04mr34g07a-Fig7a-day5.jpeg\n",
      "SARS-10.1148rg.242035193-g04mr34g07b-Fig7b-day12.jpeg\n",
      "SARS-10.1148rg.242035193-g04mr34g09a-Fig9a-day17.jpeg\n",
      "SARS-10.1148rg.242035193-g04mr34g09b-Fig9b-day19.jpeg\n",
      "SARS-10.1148rg.242035193-g04mr34g09c-Fig9c-day27.jpeg\n",
      "nejmoa2001191_f1-L.jpeg\n",
      "nejmoa2001191_f3-L.jpeg\n",
      "nejmoa2001191_f5-L.jpeg\n",
      "covid-19-pneumonia-15-L.jpg\n",
      "covid-19-pneumonia-7-L.jpg\n",
      "covid-19-pneumonia-14-L.png\n",
      "ards-secondary-to-tiger-snake-bite.png\n",
      "pneumocystis-pneumonia-2-PA.png\n",
      "pneumocystis-pneumonia-2-L.png\n",
      "streptococcus-pneumoniae-pneumonia-1.jpg\n",
      "pneumonia-7.jpg\n",
      "streptococcus-pneumoniae-pneumonia-temporal-evolution-1-day0.jpg\n",
      "streptococcus-pneumoniae-pneumonia-temporal-evolution-1-day1.jpg\n",
      "streptococcus-pneumoniae-pneumonia-temporal-evolution-1-day2.jpg\n",
      "streptococcus-pneumoniae-pneumonia-temporal-evolution-1-day3.jpg\n",
      "44C8E3D6-20DA-42E9-B33B-96FA6D6DE12F.jpeg\n",
      "F051E018-DAD1-4506-AD43-BE4CA29E960B.jpeg\n",
      "D5ACAA93-C779-4E22-ADFA-6A220489F840.jpeg\n",
      "35AF5C3B-D04D-4B4B-92B7-CB1F67D83085.jpeg\n",
      "4C4DEFD8-F55D-4588-AAD6-C59017F55966.jpeg\n",
      "5e6dd879fde9502400e58b2f.jpeg\n",
      "254B82FC-817D-4E2F-AB6E-1351341F0E38.jpeg\n",
      "pneumococcal-pneumonia-day0.jpg\n",
      "pneumococcal-pneumonia-day7.jpg\n",
      "pneumococcal-pneumonia-day35.jpg\n",
      "parapneumonic-effusion-1-PA.png\n",
      "parapneumonic-effusion-1-L.png\n",
      "right-upper-lobe-pneumonia-9-PA.jpg\n",
      "right-upper-lobe-pneumonia-9-L.jpg\n",
      "chlamydia-pneumonia-PA.png\n",
      "chlamydia-pneumonia-L.png\n",
      "aspiration-pneumonia-5-day0.jpg\n",
      "aspiration-pneumonia-5-day3.jpg\n",
      "aspiration-pneumonia-5-day10.jpg\n",
      "aspiration-pneumonia-5-day27.jpg\n",
      "cavitating-pneumonia-4-day0-PA.jpg\n",
      "cavitating-pneumonia-4-day0-L.jpg\n",
      "cavitating-pneumonia-4-day28-PA.png\n",
      "cavitating-pneumonia-4-day28-L.png\n",
      "covid-19-pneumonia-30-L.jpg\n",
      "a1a7d22e66f6570df523e0077c6a5a_jumbo.jpeg\n",
      "covid-19-infection-exclusive-gastrointestinal-symptoms-l.png\n",
      "klebsiella-pneumonia-1.jpg\n",
      "pneumocystis-jirovecii-pneumonia-3-1.jpg\n",
      "pneumocystis-jirovecii-pneumonia-3-2.jpg\n",
      "pneumocystis-jirovecii-pneumonia-3-3.jpg\n",
      "pneumocystis-pneumonia-1.jpg\n",
      "X-ray_of_cyst_in_pneumocystis_pneumonia_1.jpg\n",
      "pneumocystis-pneumonia-8.jpg\n",
      "pneumocystis-carinii-pneumonia-1-PA.jpg\n",
      "pneumocystis-carinii-pneumonia-1-L.jpg\n",
      "pneumocystis-pneumonia-12.png\n",
      "pneumocystis-jiroveci-pneumonia-2.png\n",
      "pneumocystis-jirovecii-pneumonia-2.jpg\n",
      "pneumocystis-jiroveci-pneumonia-4-PA.png\n",
      "pneumocystis-jiroveci-pneumonia-4-L.png\n",
      "legionella-pneumonia-1.png\n",
      "legionella-pneumonia-2.jpg\n",
      "covid-19-pneumonia-evolution-over-a-week-1-day0-L.jpg\n",
      "covid-19-caso-70-1-L.jpg\n",
      "covid-19-pneumonia-20-l-on-admission.jpg\n",
      "covid-19-pneumonia-22-day1-l.png\n",
      "covid-19-pneumonia-38-l.jpg\n",
      "wong-0000.jpg\n",
      "wong-0002.jpg\n",
      "wong-0003.jpg\n",
      "wong-0004.jpg\n",
      "wong-0005.jpg\n",
      "covid-19-pneumonia-58-prior.jpg\n"
     ]
    }
   ],
   "source": [
    "for index, (filename, cls) in train_df.iterrows():\n",
    "    file_path = os.path.join(train_path, 'positive', filename)\n",
    "    if os.path.isfile(file_path):\n",
    "        train_df_filt = train_df_filt.append({'filename': filename, 'class': cls}, ignore_index=True)\n",
    "    else:\n",
    "        print(filename)"
   ]
  },
  {
   "cell_type": "code",
   "execution_count": null,
   "metadata": {},
   "outputs": [],
   "source": []
  },
  {
   "cell_type": "code",
   "execution_count": 60,
   "metadata": {},
   "outputs": [
    {
     "data": {
      "text/html": [
       "<div>\n",
       "<style scoped>\n",
       "    .dataframe tbody tr th:only-of-type {\n",
       "        vertical-align: middle;\n",
       "    }\n",
       "\n",
       "    .dataframe tbody tr th {\n",
       "        vertical-align: top;\n",
       "    }\n",
       "\n",
       "    .dataframe thead th {\n",
       "        text-align: right;\n",
       "    }\n",
       "</style>\n",
       "<table border=\"1\" class=\"dataframe\">\n",
       "  <thead>\n",
       "    <tr style=\"text-align: right;\">\n",
       "      <th></th>\n",
       "      <th>filename</th>\n",
       "      <th>class</th>\n",
       "    </tr>\n",
       "  </thead>\n",
       "  <tbody>\n",
       "    <tr>\n",
       "      <th>0</th>\n",
       "      <td>auntminnie-a-2020_01_28_23_51_6665_2020_01_28_...</td>\n",
       "      <td>1</td>\n",
       "    </tr>\n",
       "    <tr>\n",
       "      <th>1</th>\n",
       "      <td>auntminnie-b-2020_01_28_23_51_6665_2020_01_28_...</td>\n",
       "      <td>1</td>\n",
       "    </tr>\n",
       "    <tr>\n",
       "      <th>2</th>\n",
       "      <td>auntminnie-c-2020_01_28_23_51_6665_2020_01_28_...</td>\n",
       "      <td>1</td>\n",
       "    </tr>\n",
       "    <tr>\n",
       "      <th>3</th>\n",
       "      <td>auntminnie-d-2020_01_28_23_51_6665_2020_01_28_...</td>\n",
       "      <td>1</td>\n",
       "    </tr>\n",
       "    <tr>\n",
       "      <th>4</th>\n",
       "      <td>nejmc2001573_f1a.jpeg</td>\n",
       "      <td>1</td>\n",
       "    </tr>\n",
       "    <tr>\n",
       "      <th>...</th>\n",
       "      <td>...</td>\n",
       "      <td>...</td>\n",
       "    </tr>\n",
       "    <tr>\n",
       "      <th>182</th>\n",
       "      <td>covid-19-pneumonia-58-day-9.jpg</td>\n",
       "      <td>1</td>\n",
       "    </tr>\n",
       "    <tr>\n",
       "      <th>183</th>\n",
       "      <td>covid-19-pneumonia-58-day-10.jpg</td>\n",
       "      <td>1</td>\n",
       "    </tr>\n",
       "    <tr>\n",
       "      <th>184</th>\n",
       "      <td>covid-19-pneumonia-mild.JPG</td>\n",
       "      <td>1</td>\n",
       "    </tr>\n",
       "    <tr>\n",
       "      <th>185</th>\n",
       "      <td>covid-19-pneumonia-67.jpeg</td>\n",
       "      <td>1</td>\n",
       "    </tr>\n",
       "    <tr>\n",
       "      <th>186</th>\n",
       "      <td>covid-19-pneumonia-bilateral.jpg</td>\n",
       "      <td>1</td>\n",
       "    </tr>\n",
       "  </tbody>\n",
       "</table>\n",
       "<p>187 rows × 2 columns</p>\n",
       "</div>"
      ],
      "text/plain": [
       "                                              filename class\n",
       "0    auntminnie-a-2020_01_28_23_51_6665_2020_01_28_...     1\n",
       "1    auntminnie-b-2020_01_28_23_51_6665_2020_01_28_...     1\n",
       "2    auntminnie-c-2020_01_28_23_51_6665_2020_01_28_...     1\n",
       "3    auntminnie-d-2020_01_28_23_51_6665_2020_01_28_...     1\n",
       "4                                nejmc2001573_f1a.jpeg     1\n",
       "..                                                 ...   ...\n",
       "182                    covid-19-pneumonia-58-day-9.jpg     1\n",
       "183                   covid-19-pneumonia-58-day-10.jpg     1\n",
       "184                        covid-19-pneumonia-mild.JPG     1\n",
       "185                         covid-19-pneumonia-67.jpeg     1\n",
       "186                   covid-19-pneumonia-bilateral.jpg     1\n",
       "\n",
       "[187 rows x 2 columns]"
      ]
     },
     "execution_count": 60,
     "metadata": {},
     "output_type": "execute_result"
    }
   ],
   "source": [
    "train_df_filt"
   ]
  },
  {
   "cell_type": "code",
   "execution_count": 61,
   "metadata": {},
   "outputs": [
    {
     "name": "stdout",
     "output_type": "stream",
     "text": [
      "size of original data: 268\n",
      "size of filtered data: 187\n"
     ]
    }
   ],
   "source": [
    "print(\"size of original data:\" , train_df.shape[0])\n",
    "print(\"size of filtered data:\", train_df_filt.shape[0])"
   ]
  },
  {
   "cell_type": "code",
   "execution_count": 32,
   "metadata": {},
   "outputs": [],
   "source": [
    "negative = train_df[train_df['class'] == 0]\n",
    "positive = train_df[train_df['class'] == 1]"
   ]
  },
  {
   "cell_type": "code",
   "execution_count": 33,
   "metadata": {
    "scrolled": true
   },
   "outputs": [],
   "source": [
    "negative_train, negative_val = train_test_split(negative, test_size=0.1, random_state=42)"
   ]
  },
  {
   "cell_type": "code",
   "execution_count": 34,
   "metadata": {},
   "outputs": [],
   "source": [
    "positive_train, positive_val = train_test_split(positive, test_size=0.1, random_state=42)"
   ]
  },
  {
   "cell_type": "code",
   "execution_count": 35,
   "metadata": {},
   "outputs": [],
   "source": [
    "val_df = pd.concat([negative_val, positive_val])"
   ]
  },
  {
   "cell_type": "code",
   "execution_count": 36,
   "metadata": {},
   "outputs": [
    {
     "data": {
      "text/plain": [
       "(28, 2)"
      ]
     },
     "execution_count": 36,
     "metadata": {},
     "output_type": "execute_result"
    }
   ],
   "source": [
    "val_df.shape"
   ]
  },
  {
   "cell_type": "code",
   "execution_count": 37,
   "metadata": {},
   "outputs": [
    {
     "data": {
      "text/plain": [
       "(268, 2)"
      ]
     },
     "execution_count": 37,
     "metadata": {},
     "output_type": "execute_result"
    }
   ],
   "source": [
    "train_df.shape"
   ]
  },
  {
   "cell_type": "code",
   "execution_count": 23,
   "metadata": {},
   "outputs": [],
   "source": [
    "import shutil"
   ]
  },
  {
   "cell_type": "code",
   "execution_count": 28,
   "metadata": {},
   "outputs": [
    {
     "name": "stdout",
     "output_type": "stream",
     "text": [
      "wong-0005.jpg not found. continuing\n",
      "wong-0000.jpg not found. continuing\n",
      "ARDSSevere.png not found. continuing\n",
      "pneumocystis-jirovecii-pneumonia-3-2.jpg not found. continuing\n",
      "SARS-10.1148rg.242035193-g04mr34g04b-Fig4b-day12.jpeg not found. continuing\n",
      "aspiration-pneumonia-5-day27.jpg not found. continuing\n",
      "pneumocystis-pneumonia-2-L.png not found. continuing\n",
      "moving nejmoa2001191_f5-PA.jpeg to positive folder\n",
      "moving nCoV-radiol.2020200269.fig1-day7.jpeg to positive folder\n",
      "254B82FC-817D-4E2F-AB6E-1351341F0E38.jpeg not found. continuing\n",
      "moving 1.CXRCTThoraximagesofCOVID-19fromSingapore.pdf-002-fig3b.png to positive folder\n",
      "moving all14238-fig-0001-m-b.jpg to positive folder\n",
      "moving 41591_2020_819_Fig1_HTML.webp-day10.png to positive folder\n",
      "moving covid-19-pneumonia-49-day8.jpg to positive folder\n",
      "moving covid-19-pneumonia-40.jpg to positive folder\n",
      "moving A7E260CE-8A00-4C5F-A7F5-27336527A981.jpeg to positive folder\n",
      "moving covid-19-pneumonia-8.jpg to positive folder\n",
      "covid-19-pneumonia-38-l.jpg not found. continuing\n",
      "moving da9e9aac-de8c-44c7-ba57-e7cc8e4caaba.annot.original.jpeg to positive folder\n",
      "moving 80446565-E090-4187-A031-9D3CEAA586C8.jpeg to positive folder\n",
      "moving radiol.2020201160.fig3c.jpeg to positive folder\n",
      "moving 1-s2.0-S1684118220300608-main.pdf-001.jpg to positive folder\n",
      "moving 4e43e48d52c9e2d4c6c1fb9bc1544f_jumbo.jpeg to positive folder\n",
      "moving ryct.2020200034.fig5-day0.jpeg to positive folder\n",
      "moving 1-s2.0-S1684118220300682-main.pdf-002-a2.png to positive folder\n",
      "moving gr1_lrg-b.jpg to positive folder\n",
      "moving 53EC07C9-5CC6-4BE4-9B6F-D7B0D72AAA7E.jpeg to positive folder\n",
      "D5ACAA93-C779-4E22-ADFA-6A220489F840.jpeg not found. continuing\n"
     ]
    }
   ],
   "source": [
    "for index, row in val_df.iterrows():\n",
    "    filename = row[0]\n",
    "    is_positive = row[1] == 1\n",
    "    \n",
    "    if is_positive:\n",
    "        file_path = os.path.join(train_path, 'positive', filename)\n",
    "        if os.path.isfile(file_path):\n",
    "            print(\"moving {0} to positive folder\".format(filename))\n",
    "            shutil.move(file_path,os.path.join(val_path, 'positive'))\n",
    "        else:\n",
    "            print(\"{0} not found. continuing\".format(filename))\n",
    "    else:\n",
    "        file_path = os.path.join(train_path, 'negative', filename)\n",
    "        if os.path.isfile(file_path):\n",
    "            print(\"moving {0} to negative folder\".format(filename))\n",
    "            shutil.move(file_path, os.path.join(val_path, 'negative'))\n",
    "        else:\n",
    "            print(\"{0} not found. continuing\".format(filename))\n"
   ]
  },
  {
   "cell_type": "code",
   "execution_count": null,
   "metadata": {},
   "outputs": [],
   "source": []
  }
 ],
 "metadata": {
  "kernelspec": {
   "display_name": "Python 3",
   "language": "python",
   "name": "python3"
  },
  "language_info": {
   "codemirror_mode": {
    "name": "ipython",
    "version": 3
   },
   "file_extension": ".py",
   "mimetype": "text/x-python",
   "name": "python",
   "nbconvert_exporter": "python",
   "pygments_lexer": "ipython3",
   "version": "3.7.7"
  }
 },
 "nbformat": 4,
 "nbformat_minor": 4
}
