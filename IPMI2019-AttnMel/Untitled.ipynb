{
 "cells": [
  {
   "cell_type": "code",
   "execution_count": 1,
   "metadata": {},
   "outputs": [],
   "source": [
    "import numpy as np\n",
    "import pandas as pd"
   ]
  },
  {
   "cell_type": "code",
   "execution_count": 67,
   "metadata": {},
   "outputs": [],
   "source": [
    "dataset = [{1}, {2}, {3}, {4}, {5}, {8}, {9}, {10}, {11}, {12}, {24}, {28}, {32}, {36}, {40}]"
   ]
  },
  {
   "cell_type": "code",
   "execution_count": 69,
   "metadata": {},
   "outputs": [
    {
     "name": "stdout",
     "output_type": "stream",
     "text": [
      "[{1, 2}, {3}, {4}, {5}, {8}, {9}, {10}, {11}, {12}, {24}, {28}, {32}, {36}, {40}]\n",
      "[{1, 2}, {3, 4}, {5}, {8}, {9}, {10}, {11}, {12}, {24}, {28}, {32}, {36}, {40}]\n",
      "[{1, 2}, {3, 4}, {5}, {8, 9}, {10}, {11}, {12}, {24}, {28}, {32}, {36}, {40}]\n",
      "[{1, 2}, {3, 4}, {5}, {8, 9}, {10, 11}, {12}, {24}, {28}, {32}, {36}, {40}]\n",
      "[{1, 2}, {3, 4, 5}, {8, 9}, {10, 11}, {12}, {24}, {28}, {32}, {36}, {40}]\n",
      "[{1, 2}, {3, 4, 5}, {8, 9}, {10, 11, 12}, {24}, {28}, {32}, {36}, {40}]\n",
      "[{1, 2, 3, 4, 5}, {8, 9}, {10, 11, 12}, {24}, {28}, {32}, {36}, {40}]\n",
      "[{1, 2, 3, 4, 5}, {8, 9, 10, 11, 12}, {24}, {28}, {32}, {36}, {40}]\n",
      "[{1, 2, 3, 4, 5, 8, 9, 10, 11, 12}, {24}, {28}, {32}, {36}, {40}]\n",
      "[{1, 2, 3, 4, 5, 8, 9, 10, 11, 12}, {24, 28}, {32}, {36}, {40}]\n",
      "[{1, 2, 3, 4, 5, 8, 9, 10, 11, 12}, {24, 28}, {32, 36}, {40}]\n"
     ]
    }
   ],
   "source": [
    "while len(dataset) > 4:\n",
    "    cluster(dataset)"
   ]
  },
  {
   "cell_type": "code",
   "execution_count": 68,
   "metadata": {},
   "outputs": [],
   "source": [
    "def cluster(dataset):\n",
    "    min_dist = 999999\n",
    "    clusters_to_combine = (0, 0)\n",
    "    min_card = 99999\n",
    "    idx = -1\n",
    "    \n",
    "    for i, cluster in enumerate(dataset):\n",
    "        if i == len(dataset) - 1:\n",
    "            break\n",
    "        dist = abs(max(dataset[i]) - min(dataset[i+1]))\n",
    "        card = len(dataset[i]) + len(dataset[i+1])\n",
    "        if dist < min_dist:\n",
    "            clusters_to_combine = dataset[i], dataset[i+1]\n",
    "            min_dist = dist\n",
    "            min_card = card\n",
    "            idx = i\n",
    "        elif dist == min_dist and card < min_card:\n",
    "            clusters_to_combine = dataset[i], dataset[i+1]\n",
    "            min_dist = dist\n",
    "            min_card = card\n",
    "            idx = i\n",
    "    \n",
    "#     print(\"Joining the clusters: \", clusters_to_combine)\n",
    "#     print(\"single link distance:\", min_dist)\n",
    "#     print(\"Total cardinality:\", min_card)\n",
    "    joined_cluster = clusters_to_combine[0].union(clusters_to_combine[1])\n",
    "    dataset[idx] = joined_cluster\n",
    "    dataset.pop(idx+1)\n",
    "    print(dataset)"
   ]
  },
  {
   "cell_type": "code",
   "execution_count": 43,
   "metadata": {
    "scrolled": true
   },
   "outputs": [
    {
     "name": "stdout",
     "output_type": "stream",
     "text": [
      "Joining the clusters:  ({32}, {36})\n",
      "single link distance: 4\n",
      "Total cardinality: 2\n",
      "Resulting cluseters:\n",
      "[{1, 2, 3, 4, 5, 6, 8, 9, 10, 11, 12}, {24, 28}, {32, 36}, {40}]\n"
     ]
    }
   ],
   "source": [
    "cluster(dataset)"
   ]
  },
  {
   "cell_type": "code",
   "execution_count": 17,
   "metadata": {},
   "outputs": [
    {
     "data": {
      "text/plain": [
       "1"
      ]
     },
     "execution_count": 17,
     "metadata": {},
     "output_type": "execute_result"
    }
   ],
   "source": [
    "abs(max({1, 2}) - min({3}))"
   ]
  },
  {
   "cell_type": "code",
   "execution_count": 58,
   "metadata": {},
   "outputs": [],
   "source": [
    "dataset = [{1}, {2}, {3}, {4}, {5}, {8}, {9}, {10}, {11}, {12}, {24}, {28}, {32}, {36}, {40}]"
   ]
  },
  {
   "cell_type": "code",
   "execution_count": 59,
   "metadata": {},
   "outputs": [],
   "source": [
    "k = 3"
   ]
  },
  {
   "cell_type": "code",
   "execution_count": 60,
   "metadata": {},
   "outputs": [],
   "source": [
    "initial_cents = [1, 8, 12]"
   ]
  },
  {
   "cell_type": "code",
   "execution_count": 61,
   "metadata": {},
   "outputs": [],
   "source": [
    "clusters = [set(), set(), set()]"
   ]
  },
  {
   "cell_type": "code",
   "execution_count": 81,
   "metadata": {},
   "outputs": [],
   "source": [
    "def closest_centroid(centroids, item):\n",
    "    min_dist = 999999999\n",
    "    idx = -1\n",
    "    for j in range(3):\n",
    "        cent = centroids[j]\n",
    "        dist = abs(item - cent)\n",
    "#         print(\"distance between {0} and {1}: {2}\".format(el, cent, dist))\n",
    "        if dist < min_dist:\n",
    "            min_dist = dist\n",
    "            idx = j\n",
    "    return idx"
   ]
  },
  {
   "cell_type": "code",
   "execution_count": 62,
   "metadata": {
    "scrolled": true
   },
   "outputs": [],
   "source": [
    "for x in dataset:\n",
    "    el = next(iter(x))\n",
    "    min_dist = 999999999\n",
    "    idx = -1\n",
    "    for j in range(3):\n",
    "        cent = initial_cents[j]\n",
    "        dist = abs(el - cent)\n",
    "#         print(\"distance between {0} and {1}: {2}\".format(el, cent, dist))\n",
    "        if dist < min_dist:\n",
    "            min_dist = dist\n",
    "            idx = j\n",
    "    # Add to cluster j\n",
    "#     print(\"Assigning {0} to cluster {1}\".format(el, idx))\n",
    "    clusters[idx] = clusters[idx].union(x)"
   ]
  },
  {
   "cell_type": "code",
   "execution_count": 63,
   "metadata": {},
   "outputs": [
    {
     "data": {
      "text/plain": [
       "[{1, 2, 3, 4}, {5, 8, 9, 10}, {11, 12, 24, 28, 32, 36, 40}]"
      ]
     },
     "execution_count": 63,
     "metadata": {},
     "output_type": "execute_result"
    }
   ],
   "source": [
    "clusters"
   ]
  },
  {
   "cell_type": "code",
   "execution_count": 71,
   "metadata": {},
   "outputs": [],
   "source": [
    "cents = [1, 8, 12]"
   ]
  },
  {
   "cell_type": "code",
   "execution_count": 73,
   "metadata": {},
   "outputs": [
    {
     "name": "stdout",
     "output_type": "stream",
     "text": [
      "[2.5, 8.0, 26.142857142857142]\n"
     ]
    }
   ],
   "source": [
    "for j in range(3):\n",
    "    cents[j] = sum(clusters[j]) / len(clusters[j])\n",
    "print(cents)"
   ]
  },
  {
   "cell_type": "code",
   "execution_count": 96,
   "metadata": {},
   "outputs": [
    {
     "name": "stdout",
     "output_type": "stream",
     "text": [
      "[{1, 2, 3, 4, 5}, {8, 9, 10, 11, 12}, {32, 36, 24, 40, 28}]\n"
     ]
    }
   ],
   "source": [
    "new_clusters = [set(), set(), set()]\n",
    "for cluster in clusters:\n",
    "    for item in cluster:\n",
    "        idx = closest_centroid(cents, item)\n",
    "        new_clusters[idx] = new_clusters[idx].union({item})\n",
    "print(new_clusters)"
   ]
  },
  {
   "cell_type": "code",
   "execution_count": 95,
   "metadata": {},
   "outputs": [
    {
     "name": "stdout",
     "output_type": "stream",
     "text": [
      "[3.0, 10.0, 32.0]\n"
     ]
    }
   ],
   "source": [
    "clusters = new_clusters\n",
    "for j in range(3):\n",
    "    cents[j] = sum(clusters[j]) / len(clusters[j])\n",
    "print(cents)"
   ]
  },
  {
   "cell_type": "code",
   "execution_count": 97,
   "metadata": {},
   "outputs": [],
   "source": [
    "df = pd.read_csv('prof_data.csv')"
   ]
  },
  {
   "cell_type": "code",
   "execution_count": 98,
   "metadata": {},
   "outputs": [
    {
     "data": {
      "text/html": [
       "<div>\n",
       "<style scoped>\n",
       "    .dataframe tbody tr th:only-of-type {\n",
       "        vertical-align: middle;\n",
       "    }\n",
       "\n",
       "    .dataframe tbody tr th {\n",
       "        vertical-align: top;\n",
       "    }\n",
       "\n",
       "    .dataframe thead th {\n",
       "        text-align: right;\n",
       "    }\n",
       "</style>\n",
       "<table border=\"1\" class=\"dataframe\">\n",
       "  <thead>\n",
       "    <tr style=\"text-align: right;\">\n",
       "      <th></th>\n",
       "      <th>Department</th>\n",
       "      <th>Rank</th>\n",
       "      <th>Age</th>\n",
       "      <th>Salary</th>\n",
       "    </tr>\n",
       "  </thead>\n",
       "  <tbody>\n",
       "    <tr>\n",
       "      <th>0</th>\n",
       "      <td>CS</td>\n",
       "      <td>Full</td>\n",
       "      <td>old</td>\n",
       "      <td>high</td>\n",
       "    </tr>\n",
       "    <tr>\n",
       "      <th>1</th>\n",
       "      <td>Math</td>\n",
       "      <td>Associate</td>\n",
       "      <td>young</td>\n",
       "      <td>low</td>\n",
       "    </tr>\n",
       "    <tr>\n",
       "      <th>2</th>\n",
       "      <td>CS</td>\n",
       "      <td>Assistant</td>\n",
       "      <td>young</td>\n",
       "      <td>low</td>\n",
       "    </tr>\n",
       "    <tr>\n",
       "      <th>3</th>\n",
       "      <td>Math</td>\n",
       "      <td>Full</td>\n",
       "      <td>old</td>\n",
       "      <td>high</td>\n",
       "    </tr>\n",
       "    <tr>\n",
       "      <th>4</th>\n",
       "      <td>Physics</td>\n",
       "      <td>Associate</td>\n",
       "      <td>young</td>\n",
       "      <td>medium</td>\n",
       "    </tr>\n",
       "    <tr>\n",
       "      <th>5</th>\n",
       "      <td>Physics</td>\n",
       "      <td>Assistant</td>\n",
       "      <td>young</td>\n",
       "      <td>low</td>\n",
       "    </tr>\n",
       "    <tr>\n",
       "      <th>6</th>\n",
       "      <td>Math</td>\n",
       "      <td>Full</td>\n",
       "      <td>old</td>\n",
       "      <td>medium</td>\n",
       "    </tr>\n",
       "    <tr>\n",
       "      <th>7</th>\n",
       "      <td>CS</td>\n",
       "      <td>Associate</td>\n",
       "      <td>young</td>\n",
       "      <td>high</td>\n",
       "    </tr>\n",
       "    <tr>\n",
       "      <th>8</th>\n",
       "      <td>EE</td>\n",
       "      <td>Full</td>\n",
       "      <td>old</td>\n",
       "      <td>high</td>\n",
       "    </tr>\n",
       "    <tr>\n",
       "      <th>9</th>\n",
       "      <td>EE</td>\n",
       "      <td>Associate</td>\n",
       "      <td>young</td>\n",
       "      <td>medium</td>\n",
       "    </tr>\n",
       "  </tbody>\n",
       "</table>\n",
       "</div>"
      ],
      "text/plain": [
       "  Department       Rank    Age  Salary\n",
       "0         CS       Full    old    high\n",
       "1       Math  Associate  young     low\n",
       "2         CS  Assistant  young     low\n",
       "3       Math       Full    old    high\n",
       "4    Physics  Associate  young  medium\n",
       "5    Physics  Assistant  young     low\n",
       "6       Math       Full    old  medium\n",
       "7         CS  Associate  young    high\n",
       "8         EE       Full    old    high\n",
       "9         EE  Associate  young  medium"
      ]
     },
     "execution_count": 98,
     "metadata": {},
     "output_type": "execute_result"
    }
   ],
   "source": [
    "df"
   ]
  },
  {
   "cell_type": "code",
   "execution_count": 100,
   "metadata": {},
   "outputs": [
    {
     "data": {
      "text/plain": [
       "high      0.4\n",
       "low       0.3\n",
       "medium    0.3\n",
       "Name: Salary, dtype: float64"
      ]
     },
     "execution_count": 100,
     "metadata": {},
     "output_type": "execute_result"
    }
   ],
   "source": [
    "df.Salary.value_counts(normalize=True)"
   ]
  },
  {
   "cell_type": "code",
   "execution_count": 113,
   "metadata": {},
   "outputs": [],
   "source": [
    "salary_probs = df.groupby('Salary').size().div(len(df))"
   ]
  },
  {
   "cell_type": "code",
   "execution_count": 116,
   "metadata": {},
   "outputs": [
    {
     "data": {
      "text/plain": [
       "Age    Salary\n",
       "old    high      0.750000\n",
       "       medium    0.333333\n",
       "young  high      0.250000\n",
       "       low       1.000000\n",
       "       medium    0.666667\n",
       "dtype: float64"
      ]
     },
     "execution_count": 116,
     "metadata": {},
     "output_type": "execute_result"
    }
   ],
   "source": [
    "df.groupby(['Age', 'Salary']).size().div(len(df)).div(salary_probs, axis=0, level='Salary')"
   ]
  },
  {
   "cell_type": "code",
   "execution_count": 117,
   "metadata": {},
   "outputs": [
    {
     "data": {
      "text/plain": [
       "0.011107778111099998"
      ]
     },
     "execution_count": 117,
     "metadata": {},
     "output_type": "execute_result"
    }
   ],
   "source": [
    "0.3333 * 0.3333 * 0.3333 * 0.3"
   ]
  },
  {
   "cell_type": "code",
   "execution_count": 118,
   "metadata": {},
   "outputs": [],
   "source": [
    "transactions = [{'A', 'B', 'C', 'D', 'H'}, {'A', 'B', 'C', 'E'}, {'A', 'B','E','F','H'}, {'A','C','H'}, {'B','D','H'}]"
   ]
  },
  {
   "cell_type": "code",
   "execution_count": 119,
   "metadata": {},
   "outputs": [],
   "source": [
    "min_supp = 0.4\n",
    "min_conf = 0.5"
   ]
  },
  {
   "cell_type": "code",
   "execution_count": 130,
   "metadata": {},
   "outputs": [],
   "source": [
    "freq_itemsets = []"
   ]
  },
  {
   "cell_type": "code",
   "execution_count": 138,
   "metadata": {},
   "outputs": [],
   "source": [
    "def compute_freq(item, transactions):\n",
    "    count = 0\n",
    "    for trans in transactions:\n",
    "        if item.issubset(trans):\n",
    "            count += 1\n",
    "    return count / len(transactions)"
   ]
  },
  {
   "cell_type": "code",
   "execution_count": 132,
   "metadata": {},
   "outputs": [],
   "source": [
    "for item in ['A', 'B', 'C','D', 'E','F', 'H']:\n",
    "    freq = compute_freq(item, transactions)\n",
    "    if freq >= min_supp:\n",
    "        freq_itemsets.append(({item}, freq))"
   ]
  },
  {
   "cell_type": "code",
   "execution_count": 133,
   "metadata": {},
   "outputs": [
    {
     "data": {
      "text/plain": [
       "[({'A'}, 0.8),\n",
       " ({'B'}, 0.8),\n",
       " ({'C'}, 0.6),\n",
       " ({'D'}, 0.4),\n",
       " ({'E'}, 0.4),\n",
       " ({'H'}, 0.8)]"
      ]
     },
     "execution_count": 133,
     "metadata": {},
     "output_type": "execute_result"
    }
   ],
   "source": [
    "freq_itemsets"
   ]
  },
  {
   "cell_type": "code",
   "execution_count": 134,
   "metadata": {},
   "outputs": [],
   "source": [
    "import itertools"
   ]
  },
  {
   "cell_type": "code",
   "execution_count": 147,
   "metadata": {},
   "outputs": [],
   "source": [
    "freq_itemsets_2 = []"
   ]
  },
  {
   "cell_type": "code",
   "execution_count": 148,
   "metadata": {},
   "outputs": [],
   "source": [
    "for pair in itertools.product(freq_itemsets, repeat=2):\n",
    "    if pair[0] == pair[1]:\n",
    "        continue\n",
    "    itemset = pair[0][0].union(pair[1][0])\n",
    "    freq = compute_freq(itemset, transactions)\n",
    "    if freq >= min_supp:\n",
    "        freq_itemset = (itemset, freq)\n",
    "        if freq_itemset in freq_itemsets_2:\n",
    "            continue\n",
    "        freq_itemsets_2.append(freq_itemset)\n",
    "    "
   ]
  },
  {
   "cell_type": "code",
   "execution_count": 150,
   "metadata": {},
   "outputs": [],
   "source": [
    "freq_itemsets_3 = []"
   ]
  },
  {
   "cell_type": "code",
   "execution_count": 151,
   "metadata": {},
   "outputs": [],
   "source": [
    "for pair in itertools.product(freq_itemsets_2, repeat=2):\n",
    "    if pair[0] == pair[1]:\n",
    "        continue\n",
    "    itemset = pair[0][0].union(pair[1][0])\n",
    "    if len(itemset) > 3 or len(itemset) < 3:\n",
    "        continue\n",
    "    \n",
    "    freq = compute_freq(itemset, transactions)\n",
    "    if freq >= min_supp:\n",
    "        freq_itemset = (itemset, freq)\n",
    "        if freq_itemset in freq_itemsets_3:\n",
    "            continue\n",
    "        freq_itemsets_3.append(freq_itemset)\n",
    "    "
   ]
  },
  {
   "cell_type": "code",
   "execution_count": 152,
   "metadata": {},
   "outputs": [
    {
     "data": {
      "text/plain": [
       "[({'A', 'B', 'C'}, 0.4),\n",
       " ({'A', 'B', 'E'}, 0.4),\n",
       " ({'A', 'B', 'H'}, 0.4),\n",
       " ({'A', 'C', 'H'}, 0.4),\n",
       " ({'B', 'D', 'H'}, 0.4)]"
      ]
     },
     "execution_count": 152,
     "metadata": {},
     "output_type": "execute_result"
    }
   ],
   "source": [
    "freq_itemsets_3"
   ]
  },
  {
   "cell_type": "code",
   "execution_count": 153,
   "metadata": {},
   "outputs": [],
   "source": [
    "freq_itemsets_4 = []"
   ]
  },
  {
   "cell_type": "code",
   "execution_count": 154,
   "metadata": {},
   "outputs": [],
   "source": [
    "for pair in itertools.product(freq_itemsets_3, repeat=2):\n",
    "    if pair[0] == pair[1]:\n",
    "        continue\n",
    "    itemset = pair[0][0].union(pair[1][0])\n",
    "    if len(itemset) > 4 or len(itemset) < 4:\n",
    "        continue\n",
    "    \n",
    "    freq = compute_freq(itemset, transactions)\n",
    "    if freq >= min_supp:\n",
    "        freq_itemset = (itemset, freq)\n",
    "        if freq_itemset in freq_itemsets_3:\n",
    "            continue\n",
    "        freq_itemsets_4.append(freq_itemset)\n",
    "    "
   ]
  },
  {
   "cell_type": "code",
   "execution_count": 180,
   "metadata": {},
   "outputs": [],
   "source": []
  },
  {
   "cell_type": "code",
   "execution_count": 188,
   "metadata": {},
   "outputs": [
    {
     "data": {
      "text/plain": [
       "[]"
      ]
     },
     "execution_count": 188,
     "metadata": {},
     "output_type": "execute_result"
    }
   ],
   "source": [
    "closed_itemsets\n"
   ]
  },
  {
   "cell_type": "code",
   "execution_count": 189,
   "metadata": {},
   "outputs": [],
   "source": [
    "supp_40 = [x[0] for x in freq_itemsets_3 if x[1] == 0.4 ] + \\\n",
    "    [x[0] for x in freq_itemsets_2 if x[1] == 0.4 ] + \\\n",
    "    [x[0] for x in freq_itemsets if x[1] == 0.4 ]\n",
    "supp_60 = [x[0] for x in freq_itemsets_3 if x[1] == 0.6 ] + \\\n",
    "    [x[0] for x in freq_itemsets_2 if x[1] == 0.6 ] + \\\n",
    "    [x[0] for x in freq_itemsets if x[1] == 0.6 ]\n",
    "supp_80 = [x[0] for x in freq_itemsets_3 if x[1] == 0.8 ] + \\\n",
    "    [x[0] for x in freq_itemsets_2 if x[1] == 0.8 ] + \\\n",
    "    [x[0] for x in freq_itemsets if x[1] == 0.8 ]\n",
    "\n",
    "closed_itemsets = []\n",
    "\n",
    "while len(supp_40) > 0:\n",
    "    subset_added = supp_40[0]\n",
    "    closed_itemsets.append(subset_added)\n",
    "    # Remove subsets\n",
    "    supp_40 = [x for x in supp_40 if not x.issubset(subset_added)]\n"
   ]
  },
  {
   "cell_type": "code",
   "execution_count": 190,
   "metadata": {},
   "outputs": [
    {
     "data": {
      "text/plain": [
       "[{'A', 'B'}, {'A', 'C'}, {'A', 'H'}, {'B', 'H'}, {'C'}]"
      ]
     },
     "execution_count": 190,
     "metadata": {},
     "output_type": "execute_result"
    }
   ],
   "source": [
    "supp_60"
   ]
  },
  {
   "cell_type": "code",
   "execution_count": 191,
   "metadata": {},
   "outputs": [],
   "source": [
    "while len(supp_60) > 0:\n",
    "    subset_added = supp_60[0]\n",
    "    closed_itemsets.append(subset_added)\n",
    "    # Remove subsets\n",
    "    supp_60 = [x for x in supp_60 if not x.issubset(subset_added)]\n",
    "    \n",
    "while len(supp_80) > 0:\n",
    "    subset_added = supp_80[0]\n",
    "    closed_itemsets.append(subset_added)\n",
    "    # Remove subsets\n",
    "    supp_80 = [x for x in supp_80 if not x.issubset(subset_added)]"
   ]
  },
  {
   "cell_type": "code",
   "execution_count": 192,
   "metadata": {},
   "outputs": [
    {
     "data": {
      "text/plain": [
       "[{'A', 'B', 'C'},\n",
       " {'A', 'B', 'E'},\n",
       " {'A', 'B', 'H'},\n",
       " {'A', 'C', 'H'},\n",
       " {'B', 'D', 'H'},\n",
       " {'A', 'B'},\n",
       " {'A', 'C'},\n",
       " {'A', 'H'},\n",
       " {'B', 'H'},\n",
       " {'A'},\n",
       " {'B'},\n",
       " {'H'}]"
      ]
     },
     "execution_count": 192,
     "metadata": {},
     "output_type": "execute_result"
    }
   ],
   "source": [
    "closed_itemsets"
   ]
  },
  {
   "cell_type": "code",
   "execution_count": 194,
   "metadata": {},
   "outputs": [],
   "source": [
    "maximal_itemsets = [{'A', 'B', 'C'},\n",
    " {'A', 'B', 'E'},\n",
    " {'A', 'B', 'H'},\n",
    " {'A', 'C', 'H'},\n",
    " {'B', 'D', 'H'}]"
   ]
  },
  {
   "cell_type": "code",
   "execution_count": 195,
   "metadata": {},
   "outputs": [
    {
     "data": {
      "text/plain": [
       "[{'A', 'B', 'C'},\n",
       " {'A', 'B', 'E'},\n",
       " {'A', 'B', 'H'},\n",
       " {'A', 'C', 'H'},\n",
       " {'B', 'D', 'H'}]"
      ]
     },
     "execution_count": 195,
     "metadata": {},
     "output_type": "execute_result"
    }
   ],
   "source": [
    "maximal_itemsets"
   ]
  },
  {
   "cell_type": "code",
   "execution_count": 200,
   "metadata": {},
   "outputs": [],
   "source": [
    "def compute_count(itemset, transactions):\n",
    "    count = 0\n",
    "    for trans in transactions:\n",
    "        if itemset.issubset(trans):\n",
    "            count += 1\n",
    "    return count"
   ]
  },
  {
   "cell_type": "code",
   "execution_count": 206,
   "metadata": {},
   "outputs": [
    {
     "name": "stdout",
     "output_type": "stream",
     "text": [
      "Confidence for {'B'} -> {'C', 'A'}: 0.5\n",
      "Confidence for {'A'} -> {'B', 'C'}: 0.5\n",
      "Confidence for {'C'} -> {'B', 'A'}: 0.6666666666666666\n",
      "Confidence for {'B', 'A'} -> {'C'}: 0.6666666666666666\n",
      "Confidence for {'B', 'C'} -> {'A'}: 1.0\n",
      "Confidence for {'C', 'A'} -> {'B'}: 0.6666666666666666\n",
      "=====\n",
      "Confidence for {'E'} -> {'B', 'A'}: 1.0\n",
      "Confidence for {'B'} -> {'E', 'A'}: 0.5\n",
      "Confidence for {'A'} -> {'B', 'E'}: 0.5\n",
      "Confidence for {'B', 'E'} -> {'A'}: 1.0\n",
      "Confidence for {'E', 'A'} -> {'B'}: 1.0\n",
      "Confidence for {'B', 'A'} -> {'E'}: 0.6666666666666666\n",
      "=====\n",
      "Confidence for {'H'} -> {'B', 'A'}: 0.5\n",
      "Confidence for {'B'} -> {'A', 'H'}: 0.5\n",
      "Confidence for {'A'} -> {'B', 'H'}: 0.5\n",
      "Confidence for {'B', 'H'} -> {'A'}: 0.6666666666666666\n",
      "Confidence for {'A', 'H'} -> {'B'}: 0.6666666666666666\n",
      "Confidence for {'B', 'A'} -> {'H'}: 0.6666666666666666\n",
      "=====\n",
      "Confidence for {'H'} -> {'C', 'A'}: 0.5\n",
      "Confidence for {'C'} -> {'A', 'H'}: 0.6666666666666666\n",
      "Confidence for {'A'} -> {'C', 'H'}: 0.5\n",
      "Confidence for {'C', 'H'} -> {'A'}: 1.0\n",
      "Confidence for {'A', 'H'} -> {'C'}: 0.6666666666666666\n",
      "Confidence for {'C', 'A'} -> {'H'}: 0.6666666666666666\n",
      "=====\n",
      "Confidence for {'H'} -> {'B', 'D'}: 0.5\n",
      "Confidence for {'B'} -> {'D', 'H'}: 0.5\n",
      "Confidence for {'D'} -> {'B', 'H'}: 1.0\n",
      "Confidence for {'B', 'H'} -> {'D'}: 0.6666666666666666\n",
      "Confidence for {'D', 'H'} -> {'B'}: 1.0\n",
      "Confidence for {'B', 'D'} -> {'H'}: 1.0\n",
      "=====\n"
     ]
    }
   ],
   "source": [
    "for itemset in maximal_itemsets:\n",
    "    # try size 1\n",
    "    ls_seen = []\n",
    "    \n",
    "    for item in itemset:\n",
    "        ls = {item}\n",
    "        rs = itemset - {item}\n",
    "        conf = compute_count(itemset, transactions) / compute_count(ls, transactions)\n",
    "        if conf >= min_conf:\n",
    "            ls_seen.append(ls)\n",
    "            print(\"Confidence for {0} -> {1}: {2}\".format(ls, rs, conf))\n",
    "    # try size 2\n",
    "    \n",
    "    for pair in itertools.product(itemset, repeat=2):\n",
    "        if pair[0] == pair[1]:\n",
    "            continue\n",
    "        ls = {pair[0]}.union({pair[1]})\n",
    "        rs = itemset - ls\n",
    "        conf = compute_count(itemset, transactions) / compute_count(ls, transactions)\n",
    "        if conf >= min_conf and ls not in ls_seen:\n",
    "            ls_seen.append(ls)\n",
    "            print(\"Confidence for {0} -> {1}: {2}\".format(ls, rs, conf))\n",
    "    print(\"=====\")"
   ]
  },
  {
   "cell_type": "code",
   "execution_count": null,
   "metadata": {},
   "outputs": [],
   "source": [
    "%"
   ]
  }
 ],
 "metadata": {
  "kernelspec": {
   "display_name": "Python 3",
   "language": "python",
   "name": "python3"
  },
  "language_info": {
   "codemirror_mode": {
    "name": "ipython",
    "version": 3
   },
   "file_extension": ".py",
   "mimetype": "text/x-python",
   "name": "python",
   "nbconvert_exporter": "python",
   "pygments_lexer": "ipython3",
   "version": "3.7.6"
  }
 },
 "nbformat": 4,
 "nbformat_minor": 4
}
