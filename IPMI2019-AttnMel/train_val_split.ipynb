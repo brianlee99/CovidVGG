{
 "cells": [
  {
   "cell_type": "code",
   "execution_count": 1,
   "metadata": {},
   "outputs": [],
   "source": [
    "import numpy as np\n",
    "import pandas as pd\n",
    "import os\n",
    "from sklearn.model_selection import train_test_split"
   ]
  },
  {
   "cell_type": "code",
   "execution_count": 4,
   "metadata": {},
   "outputs": [],
   "source": [
    "# Split into 90% and 10%\n",
    "train_df = pd.read_csv('train.csv', header=None)"
   ]
  },
  {
   "cell_type": "code",
   "execution_count": 6,
   "metadata": {},
   "outputs": [],
   "source": [
    "benign = train_df[train_df[2] == 0]\n",
    "malignant = train_df[train_df[2] == 1]"
   ]
  },
  {
   "cell_type": "code",
   "execution_count": 12,
   "metadata": {
    "scrolled": true
   },
   "outputs": [],
   "source": [
    "benign_train, benign_val = train_test_split(benign, test_size=0.1, random_state=42)"
   ]
  },
  {
   "cell_type": "code",
   "execution_count": 13,
   "metadata": {},
   "outputs": [],
   "source": [
    "malig_train, malig_val = train_test_split(malignant, test_size=0.1, random_state=42)"
   ]
  },
  {
   "cell_type": "code",
   "execution_count": 16,
   "metadata": {},
   "outputs": [],
   "source": [
    "val_df = pd.concat([benign_val, malig_val])"
   ]
  },
  {
   "cell_type": "code",
   "execution_count": 17,
   "metadata": {},
   "outputs": [
    {
     "data": {
      "text/plain": [
       "(18, 3)"
      ]
     },
     "execution_count": 17,
     "metadata": {},
     "output_type": "execute_result"
    }
   ],
   "source": [
    "malig_val.shape"
   ]
  },
  {
   "cell_type": "code",
   "execution_count": 18,
   "metadata": {},
   "outputs": [
    {
     "data": {
      "text/plain": [
       "(73, 3)"
      ]
     },
     "execution_count": 18,
     "metadata": {},
     "output_type": "execute_result"
    }
   ],
   "source": [
    "benign_val.shape"
   ]
  },
  {
   "cell_type": "code",
   "execution_count": 19,
   "metadata": {},
   "outputs": [
    {
     "data": {
      "text/plain": [
       "True"
      ]
     },
     "execution_count": 19,
     "metadata": {},
     "output_type": "execute_result"
    }
   ],
   "source": [
    "val_df.shape[0] == 18 + 73"
   ]
  },
  {
   "cell_type": "code",
   "execution_count": 20,
   "metadata": {},
   "outputs": [
    {
     "data": {
      "text/html": [
       "<div>\n",
       "<style scoped>\n",
       "    .dataframe tbody tr th:only-of-type {\n",
       "        vertical-align: middle;\n",
       "    }\n",
       "\n",
       "    .dataframe tbody tr th {\n",
       "        vertical-align: top;\n",
       "    }\n",
       "\n",
       "    .dataframe thead th {\n",
       "        text-align: right;\n",
       "    }\n",
       "</style>\n",
       "<table border=\"1\" class=\"dataframe\">\n",
       "  <thead>\n",
       "    <tr style=\"text-align: right;\">\n",
       "      <th></th>\n",
       "      <th>0</th>\n",
       "      <th>1</th>\n",
       "      <th>2</th>\n",
       "    </tr>\n",
       "  </thead>\n",
       "  <tbody>\n",
       "    <tr>\n",
       "      <th>513</th>\n",
       "      <td>data_2016\\Train\\benign\\ISIC_0010213.jpg</td>\n",
       "      <td>data_2016\\Train_Lesion\\benign\\ISIC_0010213_Seg...</td>\n",
       "      <td>0</td>\n",
       "    </tr>\n",
       "    <tr>\n",
       "      <th>693</th>\n",
       "      <td>data_2016\\Train\\benign\\ISIC_0011323.jpg</td>\n",
       "      <td>data_2016\\Train_Lesion\\benign\\ISIC_0011323_Seg...</td>\n",
       "      <td>0</td>\n",
       "    </tr>\n",
       "    <tr>\n",
       "      <th>377</th>\n",
       "      <td>data_2016\\Train\\benign\\ISIC_0009165.jpg</td>\n",
       "      <td>data_2016\\Train_Lesion\\benign\\ISIC_0009165_Seg...</td>\n",
       "      <td>0</td>\n",
       "    </tr>\n",
       "    <tr>\n",
       "      <th>33</th>\n",
       "      <td>data_2016\\Train\\benign\\ISIC_0000062.jpg</td>\n",
       "      <td>data_2016\\Train_Lesion\\benign\\ISIC_0000062_Seg...</td>\n",
       "      <td>0</td>\n",
       "    </tr>\n",
       "    <tr>\n",
       "      <th>63</th>\n",
       "      <td>data_2016\\Train\\benign\\ISIC_0000112.jpg</td>\n",
       "      <td>data_2016\\Train_Lesion\\benign\\ISIC_0000112_Seg...</td>\n",
       "      <td>0</td>\n",
       "    </tr>\n",
       "  </tbody>\n",
       "</table>\n",
       "</div>"
      ],
      "text/plain": [
       "                                           0  \\\n",
       "513  data_2016\\Train\\benign\\ISIC_0010213.jpg   \n",
       "693  data_2016\\Train\\benign\\ISIC_0011323.jpg   \n",
       "377  data_2016\\Train\\benign\\ISIC_0009165.jpg   \n",
       "33   data_2016\\Train\\benign\\ISIC_0000062.jpg   \n",
       "63   data_2016\\Train\\benign\\ISIC_0000112.jpg   \n",
       "\n",
       "                                                     1  2  \n",
       "513  data_2016\\Train_Lesion\\benign\\ISIC_0010213_Seg...  0  \n",
       "693  data_2016\\Train_Lesion\\benign\\ISIC_0011323_Seg...  0  \n",
       "377  data_2016\\Train_Lesion\\benign\\ISIC_0009165_Seg...  0  \n",
       "33   data_2016\\Train_Lesion\\benign\\ISIC_0000062_Seg...  0  \n",
       "63   data_2016\\Train_Lesion\\benign\\ISIC_0000112_Seg...  0  "
      ]
     },
     "execution_count": 20,
     "metadata": {},
     "output_type": "execute_result"
    }
   ],
   "source": [
    "val_df.head()"
   ]
  },
  {
   "cell_type": "code",
   "execution_count": 21,
   "metadata": {},
   "outputs": [],
   "source": [
    "val_benign_path = 'data_2016/Val/benign'\n",
    "val_malig_path = 'data_2016/Val/malignant'"
   ]
  },
  {
   "cell_type": "code",
   "execution_count": 28,
   "metadata": {},
   "outputs": [],
   "source": [
    "import shutil"
   ]
  },
  {
   "cell_type": "code",
   "execution_count": 29,
   "metadata": {},
   "outputs": [],
   "source": [
    "for index, row in val_df.iterrows():\n",
    "    img_path = row[0]\n",
    "    seg_path = row[1]\n",
    "    is_benign = row[2] == 0\n",
    "    if is_benign:\n",
    "        shutil.move(img_path, os.path.join(val_benign_path))\n",
    "        shutil.move(seg_path, os.path.join(val_benign_path))\n",
    "    else:\n",
    "        shutil.move(img_path, os.path.join(val_malig_path))\n",
    "        shutil.move(seg_path, os.path.join(val_malig_path))\n",
    "#     shutil.move(img_path, os.path.join(val_))"
   ]
  },
  {
   "cell_type": "code",
   "execution_count": null,
   "metadata": {},
   "outputs": [],
   "source": []
  }
 ],
 "metadata": {
  "kernelspec": {
   "display_name": "Python 3",
   "language": "python",
   "name": "python3"
  },
  "language_info": {
   "codemirror_mode": {
    "name": "ipython",
    "version": 3
   },
   "file_extension": ".py",
   "mimetype": "text/x-python",
   "name": "python",
   "nbconvert_exporter": "python",
   "pygments_lexer": "ipython3",
   "version": "3.7.6"
  }
 },
 "nbformat": 4,
 "nbformat_minor": 4
}
