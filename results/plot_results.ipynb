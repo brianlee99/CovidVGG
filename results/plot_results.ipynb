{
 "cells": [
  {
   "cell_type": "code",
   "execution_count": 17,
   "metadata": {},
   "outputs": [],
   "source": [
    "import numpy as np\n",
    "import pandas as pd\n",
    "import matplotlib.pyplot as plt"
   ]
  },
  {
   "cell_type": "code",
   "execution_count": 2,
   "metadata": {},
   "outputs": [],
   "source": [
    "train_scores = pd.read_csv('train_scores.csv')\n",
    "val_scores = pd.read_csv('val_scores.csv')"
   ]
  },
  {
   "cell_type": "code",
   "execution_count": 3,
   "metadata": {},
   "outputs": [],
   "source": [
    "train_acc = train_scores['accuracy']\n",
    "val_acc = val_scores['accuracy']"
   ]
  },
  {
   "cell_type": "code",
   "execution_count": 19,
   "metadata": {},
   "outputs": [
    {
     "data": {
      "image/png": "[encoded data removed]",
      "text/plain": [
       "<Figure size 432x288 with 1 Axes>"
      ]
     },
     "metadata": {
      "needs_background": "light"
     },
     "output_type": "display_data"
    }
   ],
   "source": [
    "plt.plot(range(1,101), train_acc)\n",
    "plt.plot(range(1,101), val_acc)\n",
    "plt.legend(['train', 'val'])\n",
    "plt.ylim([0, 1])\n",
    "plt.xlabel('Epoch')\n",
    "plt.ylabel('Accuracy')\n",
    "plt.show()"
   ]
  },
  {
   "cell_type": "code",
   "execution_count": 15,
   "metadata": {},
   "outputs": [
    {
     "data": {
      "text/html": [
       "<div>\n",
       "<style scoped>\n",
       "    .dataframe tbody tr th:only-of-type {\n",
       "        vertical-align: middle;\n",
       "    }\n",
       "\n",
       "    .dataframe tbody tr th {\n",
       "        vertical-align: top;\n",
       "    }\n",
       "\n",
       "    .dataframe thead th {\n",
       "        text-align: right;\n",
       "    }\n",
       "</style>\n",
       "<table border=\"1\" class=\"dataframe\">\n",
       "  <thead>\n",
       "    <tr style=\"text-align: right;\">\n",
       "      <th></th>\n",
       "      <th>Unnamed: 0</th>\n",
       "      <th>AP</th>\n",
       "      <th>AUC</th>\n",
       "      <th>accuracy</th>\n",
       "      <th>mean_precision</th>\n",
       "      <th>mean_recall</th>\n",
       "      <th>precision_mel</th>\n",
       "      <th>sensitivity</th>\n",
       "      <th>specificity</th>\n",
       "      <th>epoch</th>\n",
       "    </tr>\n",
       "  </thead>\n",
       "  <tbody>\n",
       "    <tr>\n",
       "      <th>0</th>\n",
       "      <td>0</td>\n",
       "      <td>0.814402</td>\n",
       "      <td>0.578947</td>\n",
       "      <td>0.76</td>\n",
       "      <td>0.380000</td>\n",
       "      <td>0.500000</td>\n",
       "      <td>0.760000</td>\n",
       "      <td>1.0</td>\n",
       "      <td>0.000000</td>\n",
       "      <td>1.0</td>\n",
       "    </tr>\n",
       "    <tr>\n",
       "      <th>1</th>\n",
       "      <td>1</td>\n",
       "      <td>0.830364</td>\n",
       "      <td>0.666667</td>\n",
       "      <td>0.76</td>\n",
       "      <td>0.380000</td>\n",
       "      <td>0.500000</td>\n",
       "      <td>0.760000</td>\n",
       "      <td>1.0</td>\n",
       "      <td>0.000000</td>\n",
       "      <td>2.0</td>\n",
       "    </tr>\n",
       "    <tr>\n",
       "      <th>2</th>\n",
       "      <td>2</td>\n",
       "      <td>0.899746</td>\n",
       "      <td>0.771930</td>\n",
       "      <td>0.76</td>\n",
       "      <td>0.380000</td>\n",
       "      <td>0.500000</td>\n",
       "      <td>0.760000</td>\n",
       "      <td>1.0</td>\n",
       "      <td>0.000000</td>\n",
       "      <td>3.0</td>\n",
       "    </tr>\n",
       "    <tr>\n",
       "      <th>3</th>\n",
       "      <td>3</td>\n",
       "      <td>0.920864</td>\n",
       "      <td>0.798246</td>\n",
       "      <td>0.76</td>\n",
       "      <td>0.380000</td>\n",
       "      <td>0.500000</td>\n",
       "      <td>0.760000</td>\n",
       "      <td>1.0</td>\n",
       "      <td>0.000000</td>\n",
       "      <td>4.0</td>\n",
       "    </tr>\n",
       "    <tr>\n",
       "      <th>4</th>\n",
       "      <td>4</td>\n",
       "      <td>0.913804</td>\n",
       "      <td>0.807018</td>\n",
       "      <td>0.76</td>\n",
       "      <td>0.380000</td>\n",
       "      <td>0.500000</td>\n",
       "      <td>0.760000</td>\n",
       "      <td>1.0</td>\n",
       "      <td>0.000000</td>\n",
       "      <td>5.0</td>\n",
       "    </tr>\n",
       "    <tr>\n",
       "      <th>...</th>\n",
       "      <td>...</td>\n",
       "      <td>...</td>\n",
       "      <td>...</td>\n",
       "      <td>...</td>\n",
       "      <td>...</td>\n",
       "      <td>...</td>\n",
       "      <td>...</td>\n",
       "      <td>...</td>\n",
       "      <td>...</td>\n",
       "      <td>...</td>\n",
       "    </tr>\n",
       "    <tr>\n",
       "      <th>95</th>\n",
       "      <td>95</td>\n",
       "      <td>0.969098</td>\n",
       "      <td>0.912281</td>\n",
       "      <td>0.92</td>\n",
       "      <td>0.952381</td>\n",
       "      <td>0.833333</td>\n",
       "      <td>0.904762</td>\n",
       "      <td>1.0</td>\n",
       "      <td>0.666667</td>\n",
       "      <td>96.0</td>\n",
       "    </tr>\n",
       "    <tr>\n",
       "      <th>96</th>\n",
       "      <td>96</td>\n",
       "      <td>0.969098</td>\n",
       "      <td>0.912281</td>\n",
       "      <td>0.92</td>\n",
       "      <td>0.952381</td>\n",
       "      <td>0.833333</td>\n",
       "      <td>0.904762</td>\n",
       "      <td>1.0</td>\n",
       "      <td>0.666667</td>\n",
       "      <td>97.0</td>\n",
       "    </tr>\n",
       "    <tr>\n",
       "      <th>97</th>\n",
       "      <td>97</td>\n",
       "      <td>0.969098</td>\n",
       "      <td>0.912281</td>\n",
       "      <td>0.92</td>\n",
       "      <td>0.952381</td>\n",
       "      <td>0.833333</td>\n",
       "      <td>0.904762</td>\n",
       "      <td>1.0</td>\n",
       "      <td>0.666667</td>\n",
       "      <td>98.0</td>\n",
       "    </tr>\n",
       "    <tr>\n",
       "      <th>98</th>\n",
       "      <td>98</td>\n",
       "      <td>0.969098</td>\n",
       "      <td>0.912281</td>\n",
       "      <td>0.92</td>\n",
       "      <td>0.952381</td>\n",
       "      <td>0.833333</td>\n",
       "      <td>0.904762</td>\n",
       "      <td>1.0</td>\n",
       "      <td>0.666667</td>\n",
       "      <td>99.0</td>\n",
       "    </tr>\n",
       "    <tr>\n",
       "      <th>99</th>\n",
       "      <td>99</td>\n",
       "      <td>0.969098</td>\n",
       "      <td>0.912281</td>\n",
       "      <td>0.92</td>\n",
       "      <td>0.952381</td>\n",
       "      <td>0.833333</td>\n",
       "      <td>0.904762</td>\n",
       "      <td>1.0</td>\n",
       "      <td>0.666667</td>\n",
       "      <td>100.0</td>\n",
       "    </tr>\n",
       "  </tbody>\n",
       "</table>\n",
       "<p>100 rows × 10 columns</p>\n",
       "</div>"
      ],
      "text/plain": [
       "    Unnamed: 0        AP       AUC  accuracy  mean_precision  mean_recall  \\\n",
       "0            0  0.814402  0.578947      0.76        0.380000     0.500000   \n",
       "1            1  0.830364  0.666667      0.76        0.380000     0.500000   \n",
       "2            2  0.899746  0.771930      0.76        0.380000     0.500000   \n",
       "3            3  0.920864  0.798246      0.76        0.380000     0.500000   \n",
       "4            4  0.913804  0.807018      0.76        0.380000     0.500000   \n",
       "..         ...       ...       ...       ...             ...          ...   \n",
       "95          95  0.969098  0.912281      0.92        0.952381     0.833333   \n",
       "96          96  0.969098  0.912281      0.92        0.952381     0.833333   \n",
       "97          97  0.969098  0.912281      0.92        0.952381     0.833333   \n",
       "98          98  0.969098  0.912281      0.92        0.952381     0.833333   \n",
       "99          99  0.969098  0.912281      0.92        0.952381     0.833333   \n",
       "\n",
       "    precision_mel  sensitivity  specificity  epoch  \n",
       "0        0.760000          1.0     0.000000    1.0  \n",
       "1        0.760000          1.0     0.000000    2.0  \n",
       "2        0.760000          1.0     0.000000    3.0  \n",
       "3        0.760000          1.0     0.000000    4.0  \n",
       "4        0.760000          1.0     0.000000    5.0  \n",
       "..            ...          ...          ...    ...  \n",
       "95       0.904762          1.0     0.666667   96.0  \n",
       "96       0.904762          1.0     0.666667   97.0  \n",
       "97       0.904762          1.0     0.666667   98.0  \n",
       "98       0.904762          1.0     0.666667   99.0  \n",
       "99       0.904762          1.0     0.666667  100.0  \n",
       "\n",
       "[100 rows x 10 columns]"
      ]
     },
     "execution_count": 15,
     "metadata": {},
     "output_type": "execute_result"
    }
   ],
   "source": [
    "val_scores"
   ]
  },
  {
   "cell_type": "code",
   "execution_count": 18,
   "metadata": {},
   "outputs": [
    {
     "data": {
      "image/png": "[encoded data removed]",
      "text/plain": [
       "<Figure size 432x288 with 1 Axes>"
      ]
     },
     "metadata": {
      "needs_background": "light"
     },
     "output_type": "display_data"
    }
   ],
   "source": [
    "# plt.figure(figsize=(10,6))\n",
    "plt.plot(range(1,101), val_scores['accuracy'])\n",
    "plt.plot(range(1,101), val_scores['AP'])\n",
    "plt.plot(range(1,101), val_scores['AUC'])\n",
    "plt.plot(range(1,101), val_scores['sensitivity'])\n",
    "plt.plot(range(1,101), val_scores['specificity'])\n",
    "plt.legend(['accuracy', 'AP', 'AUC', 'sensitivity', 'specificity'])\n",
    "plt.ylim([0, 1.1])\n",
    "plt.xlabel('Epoch')\n",
    "plt.ylabel('Score')\n",
    "plt.show()"
   ]
  },
  {
   "cell_type": "code",
   "execution_count": 21,
   "metadata": {},
   "outputs": [],
   "source": [
    "y_preds = pd.read_csv('val_results.csv', header=None)\n",
    "val = pd.read_csv('val.csv', header=None)\n",
    "y_true = val[2]"
   ]
  },
  {
   "cell_type": "code",
   "execution_count": 22,
   "metadata": {},
   "outputs": [],
   "source": [
    "from sklearn.metrics import roc_curve"
   ]
  },
  {
   "cell_type": "code",
   "execution_count": 23,
   "metadata": {},
   "outputs": [
    {
     "data": {
      "text/plain": [
       "(25, 2)"
      ]
     },
     "execution_count": 23,
     "metadata": {},
     "output_type": "execute_result"
    }
   ],
   "source": [
    "y_preds.shape"
   ]
  },
  {
   "cell_type": "code",
   "execution_count": 25,
   "metadata": {},
   "outputs": [
    {
     "data": {
      "text/plain": [
       "0     0\n",
       "1     0\n",
       "2     0\n",
       "3     0\n",
       "4     0\n",
       "5     0\n",
       "6     1\n",
       "7     1\n",
       "8     1\n",
       "9     1\n",
       "10    1\n",
       "11    1\n",
       "12    1\n",
       "13    1\n",
       "14    1\n",
       "15    1\n",
       "16    1\n",
       "17    1\n",
       "18    1\n",
       "19    1\n",
       "20    1\n",
       "21    1\n",
       "22    1\n",
       "23    1\n",
       "24    1\n",
       "Name: 2, dtype: int64"
      ]
     },
     "execution_count": 25,
     "metadata": {},
     "output_type": "execute_result"
    }
   ],
   "source": [
    "y_true"
   ]
  },
  {
   "cell_type": "code",
   "execution_count": 24,
   "metadata": {},
   "outputs": [
    {
     "data": {
      "text/plain": [
       "0     0.428191\n",
       "1     0.466570\n",
       "2     0.616853\n",
       "3     0.553138\n",
       "4     0.477987\n",
       "5     0.465729\n",
       "6     0.698556\n",
       "7     0.679225\n",
       "8     0.714401\n",
       "9     0.661047\n",
       "10    0.597592\n",
       "11    0.592233\n",
       "12    0.560620\n",
       "13    0.672611\n",
       "14    0.613050\n",
       "15    0.610986\n",
       "16    0.506597\n",
       "17    0.648334\n",
       "18    0.707100\n",
       "19    0.687541\n",
       "20    0.610388\n",
       "21    0.543137\n",
       "22    0.621455\n",
       "23    0.711828\n",
       "24    0.663954\n",
       "Name: 1, dtype: float64"
      ]
     },
     "execution_count": 24,
     "metadata": {},
     "output_type": "execute_result"
    }
   ],
   "source": [
    "y_preds[1]"
   ]
  },
  {
   "cell_type": "code",
   "execution_count": 16,
   "metadata": {},
   "outputs": [],
   "source": [
    "fpr, tpr, thresholds = roc_curve(y_true, y_preds[1], pos_label=1)"
   ]
  },
  {
   "cell_type": "code",
   "execution_count": 20,
   "metadata": {},
   "outputs": [
    {
     "data": {
      "text/plain": [
       "array([0.        , 0.        , 0.        , 0.16666667, 0.16666667,\n",
       "       0.33333333, 0.33333333, 1.        ])"
      ]
     },
     "execution_count": 20,
     "metadata": {},
     "output_type": "execute_result"
    }
   ],
   "source": [
    "fpr"
   ]
  },
  {
   "cell_type": "code",
   "execution_count": 26,
   "metadata": {},
   "outputs": [
    {
     "data": {
      "image/png": "[encoded data removed]",
      "text/plain": [
       "<Figure size 432x288 with 1 Axes>"
      ]
     },
     "metadata": {
      "needs_background": "light"
     },
     "output_type": "display_data"
    }
   ],
   "source": [
    "plt.plot(fpr, tpr, 'b.')\n",
    "plt.xlabel('False positive rate')\n",
    "plt.ylabel('True positive rate')\n",
    "plt.show()"
   ]
  },
  {
   "cell_type": "code",
   "execution_count": null,
   "metadata": {},
   "outputs": [],
   "source": []
  }
 ],
 "metadata": {
  "kernelspec": {
   "display_name": "Python 3",
   "language": "python",
   "name": "python3"
  },
  "language_info": {
   "codemirror_mode": {
    "name": "ipython",
    "version": 3
   },
   "file_extension": ".py",
   "mimetype": "text/x-python",
   "name": "python",
   "nbconvert_exporter": "python",
   "pygments_lexer": "ipython3",
   "version": "3.7.7"
  }
 },
 "nbformat": 4,
 "nbformat_minor": 4
}
